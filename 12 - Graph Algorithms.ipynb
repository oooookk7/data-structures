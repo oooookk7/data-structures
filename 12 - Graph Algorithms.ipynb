{
 "cells": [
  {
   "cell_type": "markdown",
   "id": "d6ec3260",
   "metadata": {},
   "source": [
    "## Graph Traversals\n",
    "\n",
    "### Depth-First Search (DFS)\n",
    "\n",
    "1. Start from a vertex.\n",
    "2. Make the vertex as the current vertex $v_i$ and mark the vertex as visited.\n",
    "3. At each iteration, choose an incident edge ($v_i$, $v_j$) to the current vertex $v_i$.\n",
    "4. If another endpoint $v_j$ is not marked as visited, go to the vertex $v_j$ and make $v_j$ as the current vertex and mark the vertex $v_j$ as visited. Go to Step 3.\n",
    "    - If another endpoint $v_j$ is marked as visited, then ignore this incident edge and go to Step 3 to choose other incident edge.\n",
    "    - If there is no more incident edge to the current vertex, go backward to another endpoint of the vertex and make it as the current vertex."
   ]
  },
  {
   "cell_type": "markdown",
   "id": "e808b61e",
   "metadata": {},
   "source": [
    "### Breath-First Search (BFS)\n",
    "\n",
    "1. Assign the start vertex as Level 0 (L0), and mark it as visited.\n",
    "2. Assign all adjacent vertices that are one step away to the start vertex as Level 1 (L1, one step away from the start vertex). And mark those vertices one by one as visited.\n",
    "3. Assign all adjacent vertices that are one step away to the vertices at Level 1, but are not assigned before, as Level 2 (L2, two steps away from the start vertex). And mark those vertices one by one as visited.\n",
    "4. Assign all adjacent vertices that are one step away to the vertices at Level 2 (L2), but are not assigned before, as Level 3 (L3, three steps away from the start vertex). And mark those vertices one by one as visited.\n",
    "\n",
    "| BFS | DFS |\n",
    "| -- | -- |\n",
    "| BFS(Breadth First Search) uses Queue data structure for finding the shortest path. | DFS(Depth First Search) uses Stack data structure |\n",
    "| BFS can be used to find single source shortest path in an unweighted graph, because in BFS, we reach a vertex with minimum number of edges from a source vertex. | In DFS, we might traverse through more edges to reach a destination vertex from a source. |\n",
    "| BFS is more suitable for searching vertices which are closer to the given source.\t| DFS is more suitable when there are solutions away from source. |\n",
    "| BFS considers all neighbors first and therefore not suitable for decision making trees used in games or puzzles. | DFS is more suitable for game or puzzle problems. We make a decision, then explore all paths through this decision. And if this decision leads to win situation, we stop. |\n",
    "| Here, siblings are visited before the children | Here, children are visited before the siblings |\n",
    "| In BFS there is no concept of backtracking.  | DFS algorithm is a recursive algorithm that uses the idea of backtracking |"
   ]
  },
  {
   "cell_type": "code",
   "execution_count": null,
   "id": "b6ced0be",
   "metadata": {},
   "outputs": [],
   "source": []
  }
 ],
 "metadata": {
  "kernelspec": {
   "display_name": "Python 3 (ipykernel)",
   "language": "python",
   "name": "python3"
  },
  "language_info": {
   "codemirror_mode": {
    "name": "ipython",
    "version": 3
   },
   "file_extension": ".py",
   "mimetype": "text/x-python",
   "name": "python",
   "nbconvert_exporter": "python",
   "pygments_lexer": "ipython3",
   "version": "3.9.5"
  }
 },
 "nbformat": 4,
 "nbformat_minor": 5
}
